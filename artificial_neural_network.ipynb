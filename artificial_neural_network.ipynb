{
  "nbformat": 4,
  "nbformat_minor": 0,
  "metadata": {
    "colab": {
      "provenance": []
    },
    "kernelspec": {
      "name": "python3",
      "display_name": "Python 3"
    }
  },
  "cells": [
    {
      "cell_type": "markdown",
      "metadata": {
        "id": "3cbb7fRy-eyr"
      },
      "source": [
        "# Artificial Neural Network"
      ]
    },
    {
      "cell_type": "markdown",
      "metadata": {
        "id": "8sNDnxE2-pwE"
      },
      "source": [
        "### Importing the libraries"
      ]
    },
    {
      "cell_type": "code",
      "source": [
        "import numpy as np\n",
        "import pandas as pd\n",
        "import tensorflow as tf"
      ],
      "metadata": {
        "id": "DTTPbtj6-h1W"
      },
      "execution_count": null,
      "outputs": []
    },
    {
      "cell_type": "markdown",
      "metadata": {
        "id": "AG3FQEch-yuA"
      },
      "source": [
        "## Data Preprocessing"
      ]
    },
    {
      "cell_type": "markdown",
      "metadata": {
        "id": "-4zq8Mza_D9O"
      },
      "source": [
        "### Importing the dataset"
      ]
    },
    {
      "cell_type": "code",
      "source": [
        "# imported the dataset\n",
        "dataset = pd.read_excel(\"Folds5x2_pp.xlsx\")\n",
        "# making 2 subsets: matrix features, dependent variabel vector\n",
        "X = dataset.iloc[:, :-1]\n",
        "y = dataset.iloc[:, -1] # -1 gir siste kolonne i et array"
      ],
      "metadata": {
        "id": "KZMm0EdX_ETx"
      },
      "execution_count": null,
      "outputs": []
    },
    {
      "cell_type": "code",
      "source": [
        "print(X)\n",
        "print(y)"
      ],
      "metadata": {
        "colab": {
          "base_uri": "https://localhost:8080/"
        },
        "id": "W4BA-bhYBbBI",
        "outputId": "bf070a78-d8ca-444b-b547-484b769d1015"
      },
      "execution_count": null,
      "outputs": [
        {
          "output_type": "stream",
          "name": "stdout",
          "text": [
            "         AT      V       AP     RH\n",
            "0     14.96  41.76  1024.07  73.17\n",
            "1     25.18  62.96  1020.04  59.08\n",
            "2      5.11  39.40  1012.16  92.14\n",
            "3     20.86  57.32  1010.24  76.64\n",
            "4     10.82  37.50  1009.23  96.62\n",
            "...     ...    ...      ...    ...\n",
            "9563  16.65  49.69  1014.01  91.00\n",
            "9564  13.19  39.18  1023.67  66.78\n",
            "9565  31.32  74.33  1012.92  36.48\n",
            "9566  24.48  69.45  1013.86  62.39\n",
            "9567  21.60  62.52  1017.23  67.87\n",
            "\n",
            "[9568 rows x 4 columns]\n",
            "0       463.26\n",
            "1       444.37\n",
            "2       488.56\n",
            "3       446.48\n",
            "4       473.90\n",
            "         ...  \n",
            "9563    460.03\n",
            "9564    469.62\n",
            "9565    429.57\n",
            "9566    435.74\n",
            "9567    453.28\n",
            "Name: PE, Length: 9568, dtype: float64\n"
          ]
        }
      ]
    },
    {
      "cell_type": "markdown",
      "metadata": {
        "id": "VC6omXel_Up0"
      },
      "source": [
        "### Splitting the dataset into the Training set and Test set"
      ]
    },
    {
      "cell_type": "code",
      "source": [
        "from sklearn.model_selection import train_test_split\n",
        "X_train, X_test, y_train, y_test = train_test_split(X, y, test_size = 0.2, random_state = 0)"
      ],
      "metadata": {
        "id": "4tuMjFbFB-YB"
      },
      "execution_count": null,
      "outputs": []
    },
    {
      "cell_type": "markdown",
      "metadata": {
        "id": "_mSLlAT9_eyI"
      },
      "source": [
        "## Building the ANN and Initializing the ANN"
      ]
    },
    {
      "cell_type": "code",
      "source": [
        "ann = tf.keras.models.Sequential() # skeleton of the artificial neural network (ANN)"
      ],
      "metadata": {
        "id": "26F_KP_UFnIk"
      },
      "execution_count": null,
      "outputs": []
    },
    {
      "cell_type": "markdown",
      "metadata": {
        "id": "iitAFJS_ABUn"
      },
      "source": [
        "### Adding the input layer and the first hidden layer"
      ]
    },
    {
      "cell_type": "code",
      "source": [
        "# first hidden neural layer\n",
        "ann.add(tf.keras.layers.Dense(units = 6, activation = \"relu\"))"
      ],
      "metadata": {
        "id": "Te-sRazmHL9w"
      },
      "execution_count": null,
      "outputs": []
    },
    {
      "cell_type": "markdown",
      "metadata": {
        "id": "-lb4kK_wAKbs"
      },
      "source": [
        "### Adding the second hidden layer"
      ]
    },
    {
      "cell_type": "code",
      "source": [
        "# second hidden neural layer\n",
        "ann.add(tf.keras.layers.Dense(units = 6, activation = \"relu\")) # Deep neural network"
      ],
      "metadata": {
        "id": "y4bRaB5TJr87"
      },
      "execution_count": null,
      "outputs": []
    },
    {
      "cell_type": "markdown",
      "metadata": {
        "id": "jwMOmKb3AdBY"
      },
      "source": [
        "### Adding the output layer"
      ]
    },
    {
      "cell_type": "code",
      "source": [
        "# output layer\n",
        "ann.add(tf.keras.layers.Dense(units = 1))"
      ],
      "metadata": {
        "id": "63xq3EwfKEGM"
      },
      "execution_count": null,
      "outputs": []
    },
    {
      "cell_type": "markdown",
      "metadata": {
        "id": "fq7e4fF6A1yy"
      },
      "source": [
        "## Training the ANN"
      ]
    },
    {
      "cell_type": "markdown",
      "metadata": {
        "id": "qDeylAs2An25"
      },
      "source": [
        "### Compiling the ANN"
      ]
    },
    {
      "cell_type": "code",
      "source": [
        "ann.compile(optimizer = \"adam\", loss = \"mean_squared_error\")"
      ],
      "metadata": {
        "id": "2VnF_Cs1L87j"
      },
      "execution_count": null,
      "outputs": []
    },
    {
      "cell_type": "markdown",
      "metadata": {
        "id": "YjVuiybYOo7r"
      },
      "source": [
        "### Training the ANN model on the Training set"
      ]
    },
    {
      "cell_type": "code",
      "source": [
        "ann.fit(X_train, y_train, batch_size = 32, epochs = 100)"
      ],
      "metadata": {
        "colab": {
          "base_uri": "https://localhost:8080/"
        },
        "id": "7QQd7u_xNJSj",
        "outputId": "2428b54f-5889-45a3-e467-82ee4dfd81f5"
      },
      "execution_count": null,
      "outputs": [
        {
          "output_type": "stream",
          "name": "stdout",
          "text": [
            "Epoch 1/100\n",
            "240/240 [==============================] - 1s 2ms/step - loss: 176852.2188\n",
            "Epoch 2/100\n",
            "240/240 [==============================] - 0s 2ms/step - loss: 25932.0625\n",
            "Epoch 3/100\n",
            "240/240 [==============================] - 0s 2ms/step - loss: 437.7171\n",
            "Epoch 4/100\n",
            "240/240 [==============================] - 0s 2ms/step - loss: 421.7141\n",
            "Epoch 5/100\n",
            "240/240 [==============================] - 0s 2ms/step - loss: 409.4169\n",
            "Epoch 6/100\n",
            "240/240 [==============================] - 0s 2ms/step - loss: 395.3193\n",
            "Epoch 7/100\n",
            "240/240 [==============================] - 0s 2ms/step - loss: 379.4802\n",
            "Epoch 8/100\n",
            "240/240 [==============================] - 0s 2ms/step - loss: 362.2444\n",
            "Epoch 9/100\n",
            "240/240 [==============================] - 0s 2ms/step - loss: 342.7231\n",
            "Epoch 10/100\n",
            "240/240 [==============================] - 0s 2ms/step - loss: 322.5580\n",
            "Epoch 11/100\n",
            "240/240 [==============================] - 0s 2ms/step - loss: 300.5841\n",
            "Epoch 12/100\n",
            "240/240 [==============================] - 0s 2ms/step - loss: 278.0987\n",
            "Epoch 13/100\n",
            "240/240 [==============================] - 0s 2ms/step - loss: 254.6192\n",
            "Epoch 14/100\n",
            "240/240 [==============================] - 0s 2ms/step - loss: 230.4823\n",
            "Epoch 15/100\n",
            "240/240 [==============================] - 0s 2ms/step - loss: 206.8251\n",
            "Epoch 16/100\n",
            "240/240 [==============================] - 0s 2ms/step - loss: 183.0414\n",
            "Epoch 17/100\n",
            "240/240 [==============================] - 0s 2ms/step - loss: 160.2659\n",
            "Epoch 18/100\n",
            "240/240 [==============================] - 0s 2ms/step - loss: 139.0510\n",
            "Epoch 19/100\n",
            "240/240 [==============================] - 0s 2ms/step - loss: 119.2025\n",
            "Epoch 20/100\n",
            "240/240 [==============================] - 1s 2ms/step - loss: 101.3676\n",
            "Epoch 21/100\n",
            "240/240 [==============================] - 1s 3ms/step - loss: 86.6186\n",
            "Epoch 22/100\n",
            "240/240 [==============================] - 1s 3ms/step - loss: 73.7540\n",
            "Epoch 23/100\n",
            "240/240 [==============================] - 1s 3ms/step - loss: 63.3549\n",
            "Epoch 24/100\n",
            "240/240 [==============================] - 1s 3ms/step - loss: 55.3115\n",
            "Epoch 25/100\n",
            "240/240 [==============================] - 1s 3ms/step - loss: 49.4097\n",
            "Epoch 26/100\n",
            "240/240 [==============================] - 1s 3ms/step - loss: 45.0799\n",
            "Epoch 27/100\n",
            "240/240 [==============================] - 1s 2ms/step - loss: 42.2540\n",
            "Epoch 28/100\n",
            "240/240 [==============================] - 1s 3ms/step - loss: 39.9301\n",
            "Epoch 29/100\n",
            "240/240 [==============================] - 0s 2ms/step - loss: 38.1591\n",
            "Epoch 30/100\n",
            "240/240 [==============================] - 0s 2ms/step - loss: 36.6933\n",
            "Epoch 31/100\n",
            "240/240 [==============================] - 0s 2ms/step - loss: 35.7830\n",
            "Epoch 32/100\n",
            "240/240 [==============================] - 0s 2ms/step - loss: 34.5665\n",
            "Epoch 33/100\n",
            "240/240 [==============================] - 0s 2ms/step - loss: 33.8329\n",
            "Epoch 34/100\n",
            "240/240 [==============================] - 0s 2ms/step - loss: 33.0648\n",
            "Epoch 35/100\n",
            "240/240 [==============================] - 0s 2ms/step - loss: 32.8119\n",
            "Epoch 36/100\n",
            "240/240 [==============================] - 0s 2ms/step - loss: 31.6226\n",
            "Epoch 37/100\n",
            "240/240 [==============================] - 0s 2ms/step - loss: 31.3415\n",
            "Epoch 38/100\n",
            "240/240 [==============================] - 0s 2ms/step - loss: 30.7721\n",
            "Epoch 39/100\n",
            "240/240 [==============================] - 0s 2ms/step - loss: 30.4196\n",
            "Epoch 40/100\n",
            "240/240 [==============================] - 0s 2ms/step - loss: 29.8438\n",
            "Epoch 41/100\n",
            "240/240 [==============================] - 0s 2ms/step - loss: 29.7982\n",
            "Epoch 42/100\n",
            "240/240 [==============================] - 0s 2ms/step - loss: 29.6705\n",
            "Epoch 43/100\n",
            "240/240 [==============================] - 0s 2ms/step - loss: 28.9313\n",
            "Epoch 44/100\n",
            "240/240 [==============================] - 0s 2ms/step - loss: 28.4533\n",
            "Epoch 45/100\n",
            "240/240 [==============================] - 0s 2ms/step - loss: 28.2853\n",
            "Epoch 46/100\n",
            "240/240 [==============================] - 0s 2ms/step - loss: 27.9701\n",
            "Epoch 47/100\n",
            "240/240 [==============================] - 1s 3ms/step - loss: 28.2976\n",
            "Epoch 48/100\n",
            "240/240 [==============================] - 1s 2ms/step - loss: 28.2643\n",
            "Epoch 49/100\n",
            "240/240 [==============================] - 1s 3ms/step - loss: 28.0592\n",
            "Epoch 50/100\n",
            "240/240 [==============================] - 1s 3ms/step - loss: 27.2751\n",
            "Epoch 51/100\n",
            "240/240 [==============================] - 1s 2ms/step - loss: 27.4397\n",
            "Epoch 52/100\n",
            "240/240 [==============================] - 1s 2ms/step - loss: 27.3980\n",
            "Epoch 53/100\n",
            "240/240 [==============================] - 0s 2ms/step - loss: 26.8451\n",
            "Epoch 54/100\n",
            "240/240 [==============================] - 0s 2ms/step - loss: 26.7478\n",
            "Epoch 55/100\n",
            "240/240 [==============================] - 0s 2ms/step - loss: 26.7944\n",
            "Epoch 56/100\n",
            "240/240 [==============================] - 0s 2ms/step - loss: 26.6596\n",
            "Epoch 57/100\n",
            "240/240 [==============================] - 0s 2ms/step - loss: 26.9755\n",
            "Epoch 58/100\n",
            "240/240 [==============================] - 0s 2ms/step - loss: 26.5786\n",
            "Epoch 59/100\n",
            "240/240 [==============================] - 0s 2ms/step - loss: 26.8905\n",
            "Epoch 60/100\n",
            "240/240 [==============================] - 0s 2ms/step - loss: 27.1705\n",
            "Epoch 61/100\n",
            "240/240 [==============================] - 0s 2ms/step - loss: 27.2019\n",
            "Epoch 62/100\n",
            "240/240 [==============================] - 0s 2ms/step - loss: 27.0846\n",
            "Epoch 63/100\n",
            "240/240 [==============================] - 0s 2ms/step - loss: 26.8474\n",
            "Epoch 64/100\n",
            "240/240 [==============================] - 0s 2ms/step - loss: 26.3049\n",
            "Epoch 65/100\n",
            "240/240 [==============================] - 0s 2ms/step - loss: 26.5171\n",
            "Epoch 66/100\n",
            "240/240 [==============================] - 0s 2ms/step - loss: 26.9443\n",
            "Epoch 67/100\n",
            "240/240 [==============================] - 0s 2ms/step - loss: 26.5755\n",
            "Epoch 68/100\n",
            "240/240 [==============================] - 0s 2ms/step - loss: 26.4457\n",
            "Epoch 69/100\n",
            "240/240 [==============================] - 0s 2ms/step - loss: 26.3716\n",
            "Epoch 70/100\n",
            "240/240 [==============================] - 0s 2ms/step - loss: 26.5708\n",
            "Epoch 71/100\n",
            "240/240 [==============================] - 0s 2ms/step - loss: 27.0516\n",
            "Epoch 72/100\n",
            "240/240 [==============================] - 0s 2ms/step - loss: 26.7946\n",
            "Epoch 73/100\n",
            "240/240 [==============================] - 0s 2ms/step - loss: 26.4537\n",
            "Epoch 74/100\n",
            "240/240 [==============================] - 0s 2ms/step - loss: 26.5243\n",
            "Epoch 75/100\n",
            "240/240 [==============================] - 0s 2ms/step - loss: 26.2757\n",
            "Epoch 76/100\n",
            "240/240 [==============================] - 0s 2ms/step - loss: 26.7590\n",
            "Epoch 77/100\n",
            "240/240 [==============================] - 1s 2ms/step - loss: 26.0941\n",
            "Epoch 78/100\n",
            "240/240 [==============================] - 1s 2ms/step - loss: 26.8945\n",
            "Epoch 79/100\n",
            "240/240 [==============================] - 1s 2ms/step - loss: 26.2452\n",
            "Epoch 80/100\n",
            "240/240 [==============================] - 1s 3ms/step - loss: 26.7273\n",
            "Epoch 81/100\n",
            "240/240 [==============================] - 1s 3ms/step - loss: 26.6299\n",
            "Epoch 82/100\n",
            "240/240 [==============================] - 1s 3ms/step - loss: 26.3870\n",
            "Epoch 83/100\n",
            "240/240 [==============================] - 0s 2ms/step - loss: 26.3870\n",
            "Epoch 84/100\n",
            "240/240 [==============================] - 0s 2ms/step - loss: 26.6356\n",
            "Epoch 85/100\n",
            "240/240 [==============================] - 0s 2ms/step - loss: 26.4377\n",
            "Epoch 86/100\n",
            "240/240 [==============================] - 0s 2ms/step - loss: 26.2781\n",
            "Epoch 87/100\n",
            "240/240 [==============================] - 0s 2ms/step - loss: 27.0324\n",
            "Epoch 88/100\n",
            "240/240 [==============================] - 0s 2ms/step - loss: 26.1482\n",
            "Epoch 89/100\n",
            "240/240 [==============================] - 0s 2ms/step - loss: 26.4215\n",
            "Epoch 90/100\n",
            "240/240 [==============================] - 0s 2ms/step - loss: 26.3423\n",
            "Epoch 91/100\n",
            "240/240 [==============================] - 0s 2ms/step - loss: 26.3907\n",
            "Epoch 92/100\n",
            "240/240 [==============================] - 0s 2ms/step - loss: 26.8099\n",
            "Epoch 93/100\n",
            "240/240 [==============================] - 0s 2ms/step - loss: 26.6799\n",
            "Epoch 94/100\n",
            "240/240 [==============================] - 0s 2ms/step - loss: 26.4419\n",
            "Epoch 95/100\n",
            "240/240 [==============================] - 0s 2ms/step - loss: 26.4275\n",
            "Epoch 96/100\n",
            "240/240 [==============================] - 0s 2ms/step - loss: 26.6415\n",
            "Epoch 97/100\n",
            "240/240 [==============================] - 0s 2ms/step - loss: 26.5684\n",
            "Epoch 98/100\n",
            "240/240 [==============================] - 0s 2ms/step - loss: 26.4200\n",
            "Epoch 99/100\n",
            "240/240 [==============================] - 0s 2ms/step - loss: 26.5636\n",
            "Epoch 100/100\n",
            "240/240 [==============================] - 0s 2ms/step - loss: 26.4106\n"
          ]
        },
        {
          "output_type": "execute_result",
          "data": {
            "text/plain": [
              "<keras.src.callbacks.History at 0x7b86e05e0f40>"
            ]
          },
          "metadata": {},
          "execution_count": 12
        }
      ]
    },
    {
      "cell_type": "markdown",
      "metadata": {
        "id": "0H0zKKNEBLD5"
      },
      "source": [
        "### Predicting the results of the Test set"
      ]
    },
    {
      "cell_type": "code",
      "source": [
        "y_pred = ann.predict(X_test)\n",
        "\n",
        "# Ensure y_test is a Numpy array (if it is a Pandas Series)\n",
        "if isinstance(y_test, pd.Series):\n",
        "    y_test = y_test.values\n",
        "\n",
        "np.set_printoptions(precision = 2) # comparing the test data to the real data to see how good the Artificial brain predicted the energy output\n",
        "\n",
        "print(np.concatenate((y_pred.reshape(len(y_pred), 1), y_test.reshape(len(y_test), 1)), 1)) # reshaping the horisontal vector to long text line"
      ],
      "metadata": {
        "colab": {
          "base_uri": "https://localhost:8080/"
        },
        "id": "jhS8SCCTQC7m",
        "outputId": "bceb6360-73c4-4bfa-dfd2-1a91b942526e"
      },
      "execution_count": null,
      "outputs": [
        {
          "output_type": "stream",
          "name": "stdout",
          "text": [
            "60/60 [==============================] - 0s 1ms/step\n",
            "[[431.26 431.23]\n",
            " [462.37 460.01]\n",
            " [465.88 461.14]\n",
            " ...\n",
            " [473.13 473.26]\n",
            " [439.87 438.  ]\n",
            " [459.12 463.28]]\n"
          ]
        }
      ]
    }
  ]
}